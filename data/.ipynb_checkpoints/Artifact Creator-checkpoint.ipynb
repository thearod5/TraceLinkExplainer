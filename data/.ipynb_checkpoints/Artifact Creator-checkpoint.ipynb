{
 "cells": [
  {
   "cell_type": "code",
   "execution_count": 1,
   "metadata": {},
   "outputs": [],
   "source": [
    "import pandas as pd \n",
    "import numpy as np\n",
    "import os\n",
    "import json"
   ]
  },
  {
   "cell_type": "code",
   "execution_count": 2,
   "metadata": {},
   "outputs": [],
   "source": [
    "LINE_DELIMITER = \"\\n\""
   ]
  },
  {
   "cell_type": "code",
   "execution_count": 3,
   "metadata": {},
   "outputs": [],
   "source": [
    "def split_on_id(artifact):\n",
    "    identifier_started = False\n",
    "    for char_index in range(len(artifact)):\n",
    "        character = artifact[char_index]\n",
    "        if identifier_started and not character.isnumeric():\n",
    "            break;\n",
    "        identifier_started = True if character.isnumeric() else identifier_started\n",
    "        \n",
    "    return [artifact[:char_index], artifact[char_index+1:]]\n",
    "    \n",
    "assert split_on_id(\"ST-185 Load the default\") == [\"ST-185\", \"Load the default\"], split_on_id(\"ST-185 Load the default\")"
   ]
  },
  {
   "cell_type": "code",
   "execution_count": 4,
   "metadata": {},
   "outputs": [],
   "source": [
    "def create_artifact_set_csv(path_to_artifact_file, artifact_type):\n",
    "    # 1. Open and Read File\n",
    "    artifacts_df = pd.read_csv(path_to_artifact_file)\n",
    "    \n",
    "    # 2. Read Artifact\n",
    "    artifacts_json = []\n",
    "    for row_index in range(len(artifacts_df)):\n",
    "        artifact_id, artifact_body = artifacts_df.iloc[row_index]\n",
    "        artifacts_json.append({\"id\": artifact_id, \"body\": artifact_body, \"type\": artifact_type.title()})\n",
    "    return artifacts_json"
   ]
  },
  {
   "cell_type": "code",
   "execution_count": 5,
   "metadata": {},
   "outputs": [],
   "source": [
    "def create_artifact_set_txt(path_to_artifact_file, artifact_type):\n",
    "    # 1. Open and Read File\n",
    "    artifact_file = open(path_to_artifact_file)\n",
    "    artifact_file_content = artifact_file.read()\n",
    "    artifact_file.close()\n",
    "\n",
    "    # 2. Read Artifacts\n",
    "    artifacts_json = []\n",
    "    artifacts_raw = artifact_file_content.split(\"\\n\")\n",
    "    for artifact in artifacts_raw:\n",
    "        artifact_id, artifact_body = split_on_id(artifact)\n",
    "        artifacts_json.append({\"id\": artifact_id, \"body\": artifact_body, \"type\": artifact_type.title()})\n",
    "    return artifacts_json"
   ]
  },
  {
   "cell_type": "code",
   "execution_count": 6,
   "metadata": {},
   "outputs": [],
   "source": [
    "def create_artifact_set(path_to_artifact_file, artifact_name):\n",
    "    artifacts_json = create_artifact_set_txt(path_to_artifact_file, artifact_name) if \\\n",
    "    \".txt\" in path_to_artifact_file else \\\n",
    "    create_artifact_set_csv(path_to_artifact_file, artifact_name)\n",
    "    # 3. Setup Datastructure\n",
    "    artifact_set = {\n",
    "        \"name\": artifact_name,\n",
    "        \"artifacts\": artifacts_json\n",
    "    }\n",
    "\n",
    "    # 4. Export\n",
    "    export_path = os.path.join(path_to_export_folder, artifact_name + \".json\")\n",
    "    with open(export_path, 'w') as fp:\n",
    "        json.dump(artifact_set, fp)\n",
    "    return export_path"
   ]
  },
  {
   "cell_type": "code",
   "execution_count": 7,
   "metadata": {},
   "outputs": [],
   "source": [
    "def create_artifact_sets(path_to_artifact_folder):\n",
    "    artifact_file_names = list(filter(lambda f: f[0] != \".\", os.listdir(path_to_raw_folder)))\n",
    "    \n",
    "    for artifact_file_name in artifact_file_names:\n",
    "        artifact_name = artifact_file_name[:artifact_file_name.index(\".\")]\n",
    "        path_to_artifact_file = os.path.join(path_to_artifact_folder, artifact_file_name)\n",
    "        create_artifact_set(path_to_artifact_file, artifact_name)"
   ]
  },
  {
   "cell_type": "code",
   "execution_count": 8,
   "metadata": {},
   "outputs": [
    {
     "name": "stdout",
     "output_type": "stream",
     "text": [
      "Done!\n"
     ]
    }
   ],
   "source": [
    "dataset = \"Drone\"\n",
    "folder = \"Raw\"\n",
    "\n",
    "path_to_export_folder = os.path.join(dataset)\n",
    "path_to_raw_folder = os.path.join(dataset, folder)\n",
    "create_artifact_sets(path_to_raw_folder)\n",
    "print(\"Done!\")"
   ]
  }
 ],
 "metadata": {
  "kernelspec": {
   "display_name": "Python 3",
   "language": "python",
   "name": "python3"
  },
  "language_info": {
   "codemirror_mode": {
    "name": "ipython",
    "version": 3
   },
   "file_extension": ".py",
   "mimetype": "text/x-python",
   "name": "python",
   "nbconvert_exporter": "python",
   "pygments_lexer": "ipython3",
   "version": "3.7.3"
  }
 },
 "nbformat": 4,
 "nbformat_minor": 4
}
